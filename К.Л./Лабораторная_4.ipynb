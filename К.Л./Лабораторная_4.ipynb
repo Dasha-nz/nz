{
  "nbformat": 4,
  "nbformat_minor": 0,
  "metadata": {
    "colab": {
      "provenance": [],
      "authorship_tag": "ABX9TyND3M1SgltafvB7edX9pcvz",
      "include_colab_link": true
    },
    "kernelspec": {
      "name": "python3",
      "display_name": "Python 3"
    },
    "language_info": {
      "name": "python"
    }
  },
  "cells": [
    {
      "cell_type": "markdown",
      "metadata": {
        "id": "view-in-github",
        "colab_type": "text"
      },
      "source": [
        "<a href=\"https://colab.research.google.com/github/Dasha-nz/nz/blob/main/%D0%9A.%D0%9B./%D0%9B%D0%B0%D0%B1%D0%BE%D1%80%D0%B0%D1%82%D0%BE%D1%80%D0%BD%D0%B0%D1%8F_4.ipynb\" target=\"_parent\"><img src=\"https://colab.research.google.com/assets/colab-badge.svg\" alt=\"Open In Colab\"/></a>"
      ]
    },
    {
      "cell_type": "code",
      "source": [
        "!pip install pymorphy2 wikipedia\n",
        "!pip install pymystem3\n",
        "!pip install gensim matplotlib scikit-learn"
      ],
      "metadata": {
        "colab": {
          "base_uri": "https://localhost:8080/"
        },
        "id": "kpeUp61_gh15",
        "outputId": "f4be3799-8849-468b-cb87-b534a55b7999",
        "collapsed": true
      },
      "execution_count": 11,
      "outputs": [
        {
          "output_type": "stream",
          "name": "stdout",
          "text": [
            "Requirement already satisfied: pymorphy2 in /usr/local/lib/python3.10/dist-packages (0.9.1)\n",
            "Requirement already satisfied: wikipedia in /usr/local/lib/python3.10/dist-packages (1.4.0)\n",
            "Requirement already satisfied: dawg-python>=0.7.1 in /usr/local/lib/python3.10/dist-packages (from pymorphy2) (0.7.2)\n",
            "Requirement already satisfied: pymorphy2-dicts-ru<3.0,>=2.4 in /usr/local/lib/python3.10/dist-packages (from pymorphy2) (2.4.417127.4579844)\n",
            "Requirement already satisfied: docopt>=0.6 in /usr/local/lib/python3.10/dist-packages (from pymorphy2) (0.6.2)\n",
            "Requirement already satisfied: beautifulsoup4 in /usr/local/lib/python3.10/dist-packages (from wikipedia) (4.12.3)\n",
            "Requirement already satisfied: requests<3.0.0,>=2.0.0 in /usr/local/lib/python3.10/dist-packages (from wikipedia) (2.32.3)\n",
            "Requirement already satisfied: charset-normalizer<4,>=2 in /usr/local/lib/python3.10/dist-packages (from requests<3.0.0,>=2.0.0->wikipedia) (3.4.0)\n",
            "Requirement already satisfied: idna<4,>=2.5 in /usr/local/lib/python3.10/dist-packages (from requests<3.0.0,>=2.0.0->wikipedia) (3.10)\n",
            "Requirement already satisfied: urllib3<3,>=1.21.1 in /usr/local/lib/python3.10/dist-packages (from requests<3.0.0,>=2.0.0->wikipedia) (2.2.3)\n",
            "Requirement already satisfied: certifi>=2017.4.17 in /usr/local/lib/python3.10/dist-packages (from requests<3.0.0,>=2.0.0->wikipedia) (2024.8.30)\n",
            "Requirement already satisfied: soupsieve>1.2 in /usr/local/lib/python3.10/dist-packages (from beautifulsoup4->wikipedia) (2.6)\n",
            "Requirement already satisfied: pymystem3 in /usr/local/lib/python3.10/dist-packages (0.2.0)\n",
            "Requirement already satisfied: requests in /usr/local/lib/python3.10/dist-packages (from pymystem3) (2.32.3)\n",
            "Requirement already satisfied: charset-normalizer<4,>=2 in /usr/local/lib/python3.10/dist-packages (from requests->pymystem3) (3.4.0)\n",
            "Requirement already satisfied: idna<4,>=2.5 in /usr/local/lib/python3.10/dist-packages (from requests->pymystem3) (3.10)\n",
            "Requirement already satisfied: urllib3<3,>=1.21.1 in /usr/local/lib/python3.10/dist-packages (from requests->pymystem3) (2.2.3)\n",
            "Requirement already satisfied: certifi>=2017.4.17 in /usr/local/lib/python3.10/dist-packages (from requests->pymystem3) (2024.8.30)\n",
            "Requirement already satisfied: gensim in /usr/local/lib/python3.10/dist-packages (4.3.3)\n",
            "Requirement already satisfied: matplotlib in /usr/local/lib/python3.10/dist-packages (3.8.0)\n",
            "Requirement already satisfied: scikit-learn in /usr/local/lib/python3.10/dist-packages (1.5.2)\n",
            "Requirement already satisfied: numpy<2.0,>=1.18.5 in /usr/local/lib/python3.10/dist-packages (from gensim) (1.26.4)\n",
            "Requirement already satisfied: scipy<1.14.0,>=1.7.0 in /usr/local/lib/python3.10/dist-packages (from gensim) (1.13.1)\n",
            "Requirement already satisfied: smart-open>=1.8.1 in /usr/local/lib/python3.10/dist-packages (from gensim) (7.0.5)\n",
            "Requirement already satisfied: contourpy>=1.0.1 in /usr/local/lib/python3.10/dist-packages (from matplotlib) (1.3.1)\n",
            "Requirement already satisfied: cycler>=0.10 in /usr/local/lib/python3.10/dist-packages (from matplotlib) (0.12.1)\n",
            "Requirement already satisfied: fonttools>=4.22.0 in /usr/local/lib/python3.10/dist-packages (from matplotlib) (4.55.0)\n",
            "Requirement already satisfied: kiwisolver>=1.0.1 in /usr/local/lib/python3.10/dist-packages (from matplotlib) (1.4.7)\n",
            "Requirement already satisfied: packaging>=20.0 in /usr/local/lib/python3.10/dist-packages (from matplotlib) (24.2)\n",
            "Requirement already satisfied: pillow>=6.2.0 in /usr/local/lib/python3.10/dist-packages (from matplotlib) (11.0.0)\n",
            "Requirement already satisfied: pyparsing>=2.3.1 in /usr/local/lib/python3.10/dist-packages (from matplotlib) (3.2.0)\n",
            "Requirement already satisfied: python-dateutil>=2.7 in /usr/local/lib/python3.10/dist-packages (from matplotlib) (2.8.2)\n",
            "Requirement already satisfied: joblib>=1.2.0 in /usr/local/lib/python3.10/dist-packages (from scikit-learn) (1.4.2)\n",
            "Requirement already satisfied: threadpoolctl>=3.1.0 in /usr/local/lib/python3.10/dist-packages (from scikit-learn) (3.5.0)\n",
            "Requirement already satisfied: six>=1.5 in /usr/local/lib/python3.10/dist-packages (from python-dateutil>=2.7->matplotlib) (1.16.0)\n",
            "Requirement already satisfied: wrapt in /usr/local/lib/python3.10/dist-packages (from smart-open>=1.8.1->gensim) (1.16.0)\n"
          ]
        }
      ]
    },
    {
      "cell_type": "code",
      "execution_count": 14,
      "metadata": {
        "colab": {
          "base_uri": "https://localhost:8080/"
        },
        "id": "dFcKRA_ofBg0",
        "outputId": "b6d0a763-7eed-4fca-d57a-25baa7cf5af9"
      },
      "outputs": [
        {
          "output_type": "stream",
          "name": "stdout",
          "text": [
            "***, меня зовут *** ***. Я работаю в компании ОАО ***.\n"
          ]
        }
      ],
      "source": [
        "import re\n",
        "\n",
        "def name (текст):\n",
        "\n",
        "    pattern = r'\\b[A-ZА-ЯЁ][a-zа-яё]+\\b'\n",
        "\n",
        "    def replacement(match):\n",
        "        return '***'\n",
        "\n",
        "    text = re.sub(pattern, replacement, текст)\n",
        "    return text\n",
        "\n",
        "letter = \"Здравствуйте, меня зовут Иван Иванов. Я работаю в компании ОАО Ромашка.\"\n",
        "masked_writing = name(letter)\n",
        "\n",
        "print(masked_writing)\n"
      ]
    },
    {
      "cell_type": "code",
      "source": [
        "import wikipedia\n",
        "import pymorphy2\n",
        "\n",
        "morph = pymorphy2.MorphAnalyzer()\n",
        "\n",
        "def object(текст, старый_объект, новый_объект):\n",
        "\n",
        "    forma = morph.parse(старый_объект)[0]\n",
        "\n",
        "\n",
        "    new_forma = morph.parse(новый_объект)[0]\n",
        "\n",
        "\n",
        "    new_text = текст.replace(forma.word, new_forma.word)\n",
        "\n",
        "    return new_text\n",
        "\n",
        "\n",
        "статья = wikipedia.page(\"Python (язык программирования)\").content\n",
        "\n",
        "\n",
        "new_state = object(статья, \"Python\", \"Java\")\n",
        "\n",
        "\n",
        "print(new_state[:1000])\n"
      ],
      "metadata": {
        "colab": {
          "base_uri": "https://localhost:8080/"
        },
        "id": "4oMz-JJ4gZ6w",
        "outputId": "4a36176e-25f3-4270-941d-648a00053216"
      },
      "execution_count": 15,
      "outputs": [
        {
          "output_type": "stream",
          "name": "stdout",
          "text": [
            "Non-English-based programming languages are programming languages that do not use keywords taken from or inspired by English vocabulary.\n",
            "\n",
            "\n",
            "== Prevalence of English-based programming languages ==\n",
            "\n",
            "The use of the English language in the inspiration for the choice of elements, in particular for keywords in computer programming languages and code libraries, represents a significant trend in the history of language design. According to the HOPL online database of languages, out of the 8,500+ programming languages recorded, roughly 2,400 of them were developed in the United States, 600 in the United Kingdom, 160 in Canada, and 75 in Australia.\n",
            "Thus, over a third of all programming languages have been developed in countries where English is the primary language. This does not take into account the usage share of each programming language, situations where a language was developed in a non-English-speaking country but used English to appeal to an international audience (see the case of Python \n"
          ]
        }
      ]
    },
    {
      "cell_type": "code",
      "source": [
        "from pymystem3 import Mystem\n",
        "\n",
        "\n",
        "morph_pymorphy = pymorphy2.MorphAnalyzer()\n",
        "morph_mystem = Mystem()\n",
        "\n",
        "\n",
        "text = \"Солнечный день вдохновил на долгую прогулку по парку.\"\n",
        "\n",
        "\n",
        "tokens = text.split()\n",
        "\n",
        "\n",
        "результаты_pymorphy = {}\n",
        "результаты_mystem = {}\n",
        "\n",
        "\n",
        "for token in tokens:\n",
        "    анализ = morph_pymorphy.parse(token)\n",
        "    результаты_pymorphy[token] = анализ[0]\n",
        "\n",
        "\n",
        "результаты_mystem_raw = morph_mystem.analyze(text)\n",
        "for token in tokens:\n",
        "    for слово in результаты_mystem_raw:\n",
        "        if 'text' in слово and слово['text'] == token:\n",
        "            if 'analysis' in слово and слово['analysis']:\n",
        "                результаты_mystem[token] = слово['analysis'][0]\n",
        "\n",
        "print(\"Результаты анализа с использованием pymorphy2:\")\n",
        "for токен, результат in результаты_pymorphy.items():\n",
        "    print(f\"{токен}: Лемма - {результат.normal_form}, Теги - {результат.tag}\")\n",
        "\n",
        "print(\"\\nРезультаты анализа с использованием Mystem:\")\n",
        "for токен, результат in результаты_mystem.items():\n",
        "    print(f\"{токен}: Лемма - {результат['lex']}, Теги - {результат['gr']}\")\n",
        "\n",
        "\n",
        "различия = []\n",
        "for токен in tokens:\n",
        "    if токен in результаты_pymorphy and токен in результаты_mystem:\n",
        "        if результаты_pymorphy[токен].normal_form != результаты_mystem[токен]['lex']:\n",
        "            различия.append((токен, результаты_pymorphy[токен], результаты_mystem[токен]))\n",
        "\n",
        "if различия:\n",
        "    print(\"\\nТокены с различиями:\")\n",
        "    for токен, pymorphy_result, mystem_result in различия:\n",
        "        print(f\"Токен: {токен}\")\n",
        "        print(f\"Pymorphy2: Лемма - {pymorphy_result.normal_form}, Теги - {pymorphy_result.tag}\")\n",
        "        print(f\"Mystem: Лемма - {mystem_result['lex']}, Теги - {mystem_result['gr']}\")\n",
        "        print(\"---\")\n",
        "else:\n",
        "    print(\"\\nНет токенов с различиями.\")\n"
      ],
      "metadata": {
        "colab": {
          "base_uri": "https://localhost:8080/"
        },
        "id": "HHXUxHOig-SA",
        "outputId": "e067129e-1504-4388-a462-7816480d8ac9"
      },
      "execution_count": 19,
      "outputs": [
        {
          "output_type": "stream",
          "name": "stdout",
          "text": [
            "Результаты анализа с использованием pymorphy2:\n",
            "Солнечный: Лемма - солнечный, Теги - ADJF,Qual masc,sing,nomn\n",
            "день: Лемма - день, Теги - NOUN,inan,masc sing,accs\n",
            "вдохновил: Лемма - вдохновить, Теги - VERB,perf,tran masc,sing,past,indc\n",
            "на: Лемма - на, Теги - PREP\n",
            "долгую: Лемма - долгий, Теги - ADJF,Qual femn,sing,accs\n",
            "прогулку: Лемма - прогулка, Теги - NOUN,inan,femn sing,accs\n",
            "по: Лемма - по, Теги - PREP\n",
            "парку.: Лемма - парку., Теги - UNKN\n",
            "\n",
            "Результаты анализа с использованием Mystem:\n",
            "Солнечный: Лемма - солнечный, Теги - A=(вин,ед,полн,муж,неод|им,ед,полн,муж)\n",
            "день: Лемма - день, Теги - S,муж,неод=(вин,ед|им,ед)\n",
            "вдохновил: Лемма - вдохновлять, Теги - V,пе=прош,ед,изъяв,муж,сов\n",
            "на: Лемма - на, Теги - PR=\n",
            "долгую: Лемма - долгий, Теги - A=вин,ед,полн,жен\n",
            "прогулку: Лемма - прогулка, Теги - S,жен,неод=вин,ед\n",
            "по: Лемма - по, Теги - PR=\n",
            "\n",
            "Токены с различиями:\n",
            "Токен: вдохновил\n",
            "Pymorphy2: Лемма - вдохновить, Теги - VERB,perf,tran masc,sing,past,indc\n",
            "Mystem: Лемма - вдохновлять, Теги - V,пе=прош,ед,изъяв,муж,сов\n",
            "---\n"
          ]
        }
      ]
    },
    {
      "cell_type": "code",
      "source": [],
      "metadata": {
        "colab": {
          "base_uri": "https://localhost:8080/"
        },
        "id": "UOzBJeKnmpVX",
        "outputId": "1b81d83e-e84b-4c44-9611-4224a47315a8"
      },
      "execution_count": null,
      "outputs": [
        {
          "output_type": "stream",
          "name": "stdout",
          "text": [
            "Requirement already satisfied: gensim in /usr/local/lib/python3.10/dist-packages (4.3.3)\n",
            "Requirement already satisfied: nltk in /usr/local/lib/python3.10/dist-packages (3.9.1)\n",
            "Requirement already satisfied: matplotlib in /usr/local/lib/python3.10/dist-packages (3.8.0)\n",
            "Requirement already satisfied: scikit-learn in /usr/local/lib/python3.10/dist-packages (1.5.2)\n",
            "Requirement already satisfied: numpy<2.0,>=1.18.5 in /usr/local/lib/python3.10/dist-packages (from gensim) (1.26.4)\n",
            "Requirement already satisfied: scipy<1.14.0,>=1.7.0 in /usr/local/lib/python3.10/dist-packages (from gensim) (1.13.1)\n",
            "Requirement already satisfied: smart-open>=1.8.1 in /usr/local/lib/python3.10/dist-packages (from gensim) (7.0.5)\n",
            "Requirement already satisfied: click in /usr/local/lib/python3.10/dist-packages (from nltk) (8.1.7)\n",
            "Requirement already satisfied: joblib in /usr/local/lib/python3.10/dist-packages (from nltk) (1.4.2)\n",
            "Requirement already satisfied: regex>=2021.8.3 in /usr/local/lib/python3.10/dist-packages (from nltk) (2024.9.11)\n",
            "Requirement already satisfied: tqdm in /usr/local/lib/python3.10/dist-packages (from nltk) (4.66.6)\n",
            "Requirement already satisfied: contourpy>=1.0.1 in /usr/local/lib/python3.10/dist-packages (from matplotlib) (1.3.1)\n",
            "Requirement already satisfied: cycler>=0.10 in /usr/local/lib/python3.10/dist-packages (from matplotlib) (0.12.1)\n",
            "Requirement already satisfied: fonttools>=4.22.0 in /usr/local/lib/python3.10/dist-packages (from matplotlib) (4.55.0)\n",
            "Requirement already satisfied: kiwisolver>=1.0.1 in /usr/local/lib/python3.10/dist-packages (from matplotlib) (1.4.7)\n",
            "Requirement already satisfied: packaging>=20.0 in /usr/local/lib/python3.10/dist-packages (from matplotlib) (24.2)\n",
            "Requirement already satisfied: pillow>=6.2.0 in /usr/local/lib/python3.10/dist-packages (from matplotlib) (11.0.0)\n",
            "Requirement already satisfied: pyparsing>=2.3.1 in /usr/local/lib/python3.10/dist-packages (from matplotlib) (3.2.0)\n",
            "Requirement already satisfied: python-dateutil>=2.7 in /usr/local/lib/python3.10/dist-packages (from matplotlib) (2.8.2)\n",
            "Requirement already satisfied: threadpoolctl>=3.1.0 in /usr/local/lib/python3.10/dist-packages (from scikit-learn) (3.5.0)\n",
            "Requirement already satisfied: six>=1.5 in /usr/local/lib/python3.10/dist-packages (from python-dateutil>=2.7->matplotlib) (1.16.0)\n",
            "Requirement already satisfied: wrapt in /usr/local/lib/python3.10/dist-packages (from smart-open>=1.8.1->gensim) (1.16.0)\n"
          ]
        }
      ]
    },
    {
      "cell_type": "code",
      "source": [],
      "metadata": {
        "id": "rQs36_Pxmw8s"
      },
      "execution_count": null,
      "outputs": []
    },
    {
      "cell_type": "code",
      "source": [
        "import gensim.downloader as api\n",
        "from sklearn.manifold import TSNE\n",
        "import matplotlib.pyplot as plt\n",
        "import numpy as np\n",
        "import pandas as pd\n"
      ],
      "metadata": {
        "id": "WFZVTM-hhoRn"
      },
      "execution_count": 21,
      "outputs": []
    },
    {
      "cell_type": "code",
      "source": [
        "model = api.load(\"word2vec-google-news-300\")"
      ],
      "metadata": {
        "id": "QovRivCV3Ymi"
      },
      "execution_count": 22,
      "outputs": []
    },
    {
      "cell_type": "code",
      "source": [
        "available_tokens = list(model.key_to_index.keys())\n",
        "print(f\"Доступные токены в модели: {available_tokens[:10]}\")\n",
        "\n",
        "tokens = [\n",
        "    ('in', '1'),\n",
        "    ('for', '2'),\n",
        "    ('said', '3'),\n",
        "    ('with', '4'),\n",
        "    ('The', '5'),\n",
        "    ('said', '6')\n",
        "]\n",
        "\n",
        "\n",
        "vectors = []\n",
        "labels = []\n",
        "for token, pos in tokens:\n",
        "    if token in model.key_to_index:\n",
        "        vectors.append(model[token])\n",
        "        labels.append(f\"{token} ({pos})\")\n",
        "\n",
        "\n",
        "vectors = np.array(vectors)\n",
        "\n",
        "\n",
        "num_vectors = vectors.shape[0]\n",
        "print(f\"Количество токенов: {num_vectors}\")\n",
        "\n",
        "\n",
        "if num_vectors == 0:\n",
        "    print(\"Нет доступных токенов для визуализации.\")\n",
        "else:\n",
        "\n",
        "    perplexity_value = min(30, num_vectors - 1)\n",
        "\n",
        "\n",
        "    tsne = TSNE(n_components=2, perplexity=perplexity_value, random_state=42)\n",
        "    reduced_vectors = tsne.fit_transform(vectors)\n",
        "\n",
        "    plt.figure(figsize=(12, 8))\n",
        "    plt.scatter(reduced_vectors[:, 0], reduced_vectors[:, 1], marker='o')\n",
        "\n",
        "\n",
        "    for i, label in enumerate(labels):\n",
        "        plt.annotate(label, (reduced_vectors[i, 0], reduced_vectors[i, 1]), fontsize=9)\n",
        "\n",
        "    plt.title(\"t-SNE Visualization of Word2Vec Tokens\")\n",
        "    plt.xlabel(\"Component 1\")\n",
        "    plt.ylabel(\"Component 2\")\n",
        "    plt.grid()\n",
        "    plt.show()\n"
      ],
      "metadata": {
        "colab": {
          "base_uri": "https://localhost:8080/",
          "height": 753
        },
        "id": "3ubwv-oPkuYP",
        "outputId": "fbd0adb7-5587-4d6a-fea1-723bb5a300af"
      },
      "execution_count": 23,
      "outputs": [
        {
          "output_type": "stream",
          "name": "stdout",
          "text": [
            "Доступные токены в модели: ['</s>', 'in', 'for', 'that', 'is', 'on', '##', 'The', 'with', 'said']\n",
            "Количество токенов: 6\n"
          ]
        },
        {
          "output_type": "display_data",
          "data": {
            "text/plain": [
              "<Figure size 1200x800 with 1 Axes>"
            ],
            "image/png": "[encoded data removed]"
          },
          "metadata": {}
        }
      ]
    }
  ]
}