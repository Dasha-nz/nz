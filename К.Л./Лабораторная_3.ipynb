{
  "nbformat": 4,
  "nbformat_minor": 0,
  "metadata": {
    "colab": {
      "provenance": [],
      "authorship_tag": "ABX9TyNIqE3iPbw+0s1saMBw6WVd",
      "include_colab_link": true
    },
    "kernelspec": {
      "name": "python3",
      "display_name": "Python 3"
    },
    "language_info": {
      "name": "python"
    }
  },
  "cells": [
    {
      "cell_type": "markdown",
      "metadata": {
        "id": "view-in-github",
        "colab_type": "text"
      },
      "source": [
        "<a href=\"https://colab.research.google.com/github/Dasha-nz/nz/blob/main/%D0%9A.%D0%9B./%D0%9B%D0%B0%D0%B1%D0%BE%D1%80%D0%B0%D1%82%D0%BE%D1%80%D0%BD%D0%B0%D1%8F_3.ipynb\" target=\"_parent\"><img src=\"https://colab.research.google.com/assets/colab-badge.svg\" alt=\"Open In Colab\"/></a>"
      ]
    },
    {
      "cell_type": "code",
      "source": [
        "import time\n",
        "import numpy as np\n",
        "from sklearn.feature_extraction.text import CountVectorizer\n",
        "\n",
        "# Примеры текстов\n",
        "examples = [\n",
        "    \"вот в инете откапал такую инеерсную статейку предлагаю вашему внимани\",\n",
        "    \"может и в правду лутше тебе молчать чем пытаться сказать\",\n",
        "    \"утром мы сидели как сычи а потом каааак начали работать\"\n",
        "]\n",
        "\n",
        "# 1. Измерение времени работы встроенных методов\n",
        "def measure_builtin_methods():\n",
        "    import difflib\n",
        "\n",
        "    results = {}\n",
        "    start_time = time.time()\n",
        "    for i in range(len(examples)):\n",
        "        for j in range(i + 1, len(examples)):\n",
        "            difflib.SequenceMatcher(None, examples[i], examples[j]).ratio()\n",
        "    elapsed_time = time.time() - start_time\n",
        "    results['difflib'] = elapsed_time\n",
        "\n",
        "    return results\n",
        "\n",
        "# 2. Функция Дамерау-Левенштейна\n",
        "def damerau_levenshtein(s1, s2):\n",
        "    len_s1, len_s2 = len(s1), len(s2)\n",
        "    d = np.zeros((len_s1 + 1, len_s2 + 1), dtype=int)\n",
        "\n",
        "    for i in range(len_s1 + 1):\n",
        "        d[i][0] = i\n",
        "    for j in range(len_s2 + 1):\n",
        "        d[0][j] = j\n",
        "\n",
        "    for i in range(1, len_s1 + 1):\n",
        "        for j in range(1, len_s2 + 1):\n",
        "            cost = 0 if s1[i - 1] == s2[j - 1] else 1\n",
        "            d[i][j] = min(\n",
        "                d[i - 1][j] + 1,  # Удаление\n",
        "                d[i][j - 1] + 1,  # Вставка\n",
        "                d[i - 1][j - 1] + cost  # Замена\n",
        "            )\n",
        "            if i > 1 and j > 1 and s1[i - 1] == s2[j - 2] and s1[i - 2] == s2[j - 1]:\n",
        "                d[i][j] = min(d[i][j], d[i - 2][j - 2] + cost)  # Транспозиция\n",
        "\n",
        "    return d[len_s1][len_s2]\n",
        "\n",
        "# Измерение времени работы функции Дамерау-Левенштейна\n",
        "def measure_damerau_levenshtein():\n",
        "    start_time = time.time()\n",
        "    for i in range(len(examples)):\n",
        "        for j in range(i + 1, len(examples)):\n",
        "            damerau_levenshtein(examples[i], examples[j])\n",
        "    elapsed_time = time.time() - start_time\n",
        "    return elapsed_time\n",
        "\n",
        "# 3. Функция генерации опечаток\n",
        "def generate_typos(word):\n",
        "    keyboard_layout = {\n",
        "        'ф': ['ы', 'а', 'с'], 'ы': ['ф', 'в', 'с', 'д'], 'в': ['ы', 'е', 'д', 'ж'],\n",
        "        'е': ['в', 'н', 'ж', 'з'], 'н': ['е', 'г', 'з', 'х'], 'г': ['н', 'й', 'х', 'ъ'],\n",
        "        'й': ['г', 'ц', 'ъ'], 'ц': ['й', 'у'], 'у': ['ц', 'к'],\n",
        "        'к': ['у', 'е'], 'е': ['к', 'н', 'и'], 'н': ['е', 'г', 'т'],\n",
        "        'г': ['н', 'ш', 'ь'], 'ш': ['г', 'щ'], 'щ': ['ш'],\n",
        "        'а': ['ф', 'п', 'я'], 'п': ['а', 'р', 'я'], 'р': ['п', 'о', 'я'],\n",
        "        'о': ['р', 'л', 'я'], 'л': ['о'], 'я': ['а', 'п', 'о'],\n",
        "        'з': ['ж', 'х'], 'ж': ['з', 'ч'], 'ч': ['ж', 'ш'], 'ш': ['ч']\n",
        "    }\n",
        "\n",
        "    typos = []\n",
        "    for i in range(len(word)):\n",
        "        if word[i] in keyboard_layout:\n",
        "            for typo in keyboard_layout[word[i]]:\n",
        "                typos.append(word[:i] + typo + word[i + 1:])\n",
        "    return typos\n",
        "\n",
        "# 4. Функция сравнения векторов с использованием CountVectorizer\n",
        "def compare_vectors():\n",
        "    vectorizer = CountVectorizer(analyzer='char')\n",
        "    X = vectorizer.fit_transform(examples)\n",
        "    return X.toarray()\n",
        "\n",
        "# Запуск измерений\n",
        "builtin_methods_time = measure_builtin_methods()\n",
        "damerau_time = measure_damerau_levenshtein()\n",
        "typos = generate_typos(\"пример\")\n",
        "vectors = compare_vectors()\n",
        "\n",
        "# Вывод результатов\n",
        "print(\"Время работы встроенных методов:\", builtin_methods_time)\n",
        "print(\"Время работы функции Дамерау-Левенштейна:\", damerau_time)\n",
        "print(\"Сгенерированные опечатки:\", typos)\n",
        "print(\"Векторы частотности:\", vectors)\n"
      ],
      "metadata": {
        "colab": {
          "base_uri": "https://localhost:8080/"
        },
        "id": "iIyYR4bMyBGl",
        "outputId": "eece230f-633d-4e6e-9243-e79a6cd75769"
      },
      "execution_count": 26,
      "outputs": [
        {
          "output_type": "stream",
          "name": "stdout",
          "text": [
            "Время работы встроенных методов: {'difflib': 0.0016019344329833984}\n",
            "Время работы функции Дамерау-Левенштейна: 0.039070844650268555\n",
            "Сгенерированные опечатки: ['аример', 'рример', 'яример', 'ппимер', 'поимер', 'пяимер', 'примкр', 'примнр', 'примир', 'примеп', 'примео', 'примея']\n",
            "Векторы частотности: [[ 9  8  0  4  1  1  7  0  0  4  1  3  2  2  5  2  2  2  2  6  4  0  1  0\n",
            "   0  3  0]\n",
            " [ 9  5  1  2  0  1  5  1  1  1  0  1  2  3  0  2  2  1  2  7  2  2  1  1\n",
            "   3  0  1]\n",
            " [ 9 10  1  0  0  1  1  0  0  4  0  4  2  3  1  4  1  2  2  4  1  2  0  2\n",
            "   1  0  0]]\n"
          ]
        }
      ]
    }
  ]
}