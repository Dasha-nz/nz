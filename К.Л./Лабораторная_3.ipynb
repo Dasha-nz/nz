{
  "nbformat": 4,
  "nbformat_minor": 0,
  "metadata": {
    "colab": {
      "provenance": [],
      "authorship_tag": "ABX9TyNp320VIge35cX29cp3E//O",
      "include_colab_link": true
    },
    "kernelspec": {
      "name": "python3",
      "display_name": "Python 3"
    },
    "language_info": {
      "name": "python"
    }
  },
  "cells": [
    {
      "cell_type": "markdown",
      "metadata": {
        "id": "view-in-github",
        "colab_type": "text"
      },
      "source": [
        "<a href=\"https://colab.research.google.com/github/Dasha-nz/nz/blob/main/%D0%9A.%D0%9B./%D0%9B%D0%B0%D0%B1%D0%BE%D1%80%D0%B0%D1%82%D0%BE%D1%80%D0%BD%D0%B0%D1%8F_3.ipynb\" target=\"_parent\"><img src=\"https://colab.research.google.com/assets/colab-badge.svg\" alt=\"Open In Colab\"/></a>"
      ]
    },
    {
      "cell_type": "code",
      "execution_count": null,
      "metadata": {
        "colab": {
          "base_uri": "https://localhost:8080/"
        },
        "collapsed": true,
        "id": "ZcDolgRu9mrH",
        "outputId": "48b84010-d1d2-47c8-a6f6-35f97ee779dd"
      },
      "outputs": [
        {
          "output_type": "stream",
          "name": "stdout",
          "text": [
            "Reading package lists... Done\n",
            "Building dependency tree... Done\n",
            "Reading state information... Done\n",
            "swig3.0 is already the newest version (3.0.12-2.2ubuntu1).\n",
            "0 upgraded, 0 newly installed, 0 to remove and 49 not upgraded.\n",
            "Requirement already satisfied: jamspell in /usr/local/lib/python3.10/dist-packages (0.0.12)\n",
            "Requirement already satisfied: deeppavlov in /usr/local/lib/python3.10/dist-packages (1.7.0)\n",
            "Requirement already satisfied: fastapi<=0.89.1,>=0.47.0 in /usr/local/lib/python3.10/dist-packages (from deeppavlov) (0.89.1)\n",
            "Requirement already satisfied: filelock<3.10.0,>=3.0.0 in /usr/local/lib/python3.10/dist-packages (from deeppavlov) (3.9.1)\n",
            "Requirement already satisfied: nltk<3.10.0,>=3.2.4 in /usr/local/lib/python3.10/dist-packages (from deeppavlov) (3.9.1)\n",
            "Requirement already satisfied: numpy<1.24 in /usr/local/lib/python3.10/dist-packages (from deeppavlov) (1.23.5)\n",
            "Requirement already satisfied: pandas<1.6.0,>=1.0.0 in /usr/local/lib/python3.10/dist-packages (from deeppavlov) (1.5.3)\n",
            "Requirement already satisfied: prometheus-client<=1.16.0,>=0.13.0 in /usr/local/lib/python3.10/dist-packages (from deeppavlov) (0.21.0)\n",
            "Requirement already satisfied: pydantic<2 in /usr/local/lib/python3.10/dist-packages (from deeppavlov) (1.10.19)\n",
            "Requirement already satisfied: pybind11==2.10.3 in /usr/local/lib/python3.10/dist-packages (from deeppavlov) (2.10.3)\n",
            "Requirement already satisfied: requests<3.0.0,>=2.19.0 in /usr/local/lib/python3.10/dist-packages (from deeppavlov) (2.32.3)\n",
            "Requirement already satisfied: tqdm<4.65.0,>=4.42.0 in /usr/local/lib/python3.10/dist-packages (from deeppavlov) (4.64.1)\n",
            "Requirement already satisfied: uvicorn<0.19.0,>=0.13.0 in /usr/local/lib/python3.10/dist-packages (from deeppavlov) (0.18.3)\n",
            "Requirement already satisfied: wheel in /usr/local/lib/python3.10/dist-packages (from deeppavlov) (0.45.0)\n",
            "Requirement already satisfied: scikit-learn<1.1.0,>=0.24 in /usr/local/lib/python3.10/dist-packages (from deeppavlov) (1.0.2)\n",
            "Requirement already satisfied: scipy==1.10.0 in /usr/local/lib/python3.10/dist-packages (from deeppavlov) (1.10.0)\n",
            "Requirement already satisfied: starlette==0.22.0 in /usr/local/lib/python3.10/dist-packages (from fastapi<=0.89.1,>=0.47.0->deeppavlov) (0.22.0)\n",
            "Requirement already satisfied: anyio<5,>=3.4.0 in /usr/local/lib/python3.10/dist-packages (from starlette==0.22.0->fastapi<=0.89.1,>=0.47.0->deeppavlov) (3.7.1)\n",
            "Requirement already satisfied: click in /usr/local/lib/python3.10/dist-packages (from nltk<3.10.0,>=3.2.4->deeppavlov) (8.1.7)\n",
            "Requirement already satisfied: joblib in /usr/local/lib/python3.10/dist-packages (from nltk<3.10.0,>=3.2.4->deeppavlov) (1.4.2)\n",
            "Requirement already satisfied: regex>=2021.8.3 in /usr/local/lib/python3.10/dist-packages (from nltk<3.10.0,>=3.2.4->deeppavlov) (2024.9.11)\n",
            "Requirement already satisfied: python-dateutil>=2.8.1 in /usr/local/lib/python3.10/dist-packages (from pandas<1.6.0,>=1.0.0->deeppavlov) (2.8.2)\n",
            "Requirement already satisfied: pytz>=2020.1 in /usr/local/lib/python3.10/dist-packages (from pandas<1.6.0,>=1.0.0->deeppavlov) (2024.2)\n",
            "Requirement already satisfied: typing-extensions>=4.2.0 in /usr/local/lib/python3.10/dist-packages (from pydantic<2->deeppavlov) (4.12.2)\n",
            "Requirement already satisfied: charset-normalizer<4,>=2 in /usr/local/lib/python3.10/dist-packages (from requests<3.0.0,>=2.19.0->deeppavlov) (3.4.0)\n",
            "Requirement already satisfied: idna<4,>=2.5 in /usr/local/lib/python3.10/dist-packages (from requests<3.0.0,>=2.19.0->deeppavlov) (3.10)\n",
            "Requirement already satisfied: urllib3<3,>=1.21.1 in /usr/local/lib/python3.10/dist-packages (from requests<3.0.0,>=2.19.0->deeppavlov) (2.2.3)\n",
            "Requirement already satisfied: certifi>=2017.4.17 in /usr/local/lib/python3.10/dist-packages (from requests<3.0.0,>=2.19.0->deeppavlov) (2024.8.30)\n",
            "Requirement already satisfied: threadpoolctl>=2.0.0 in /usr/local/lib/python3.10/dist-packages (from scikit-learn<1.1.0,>=0.24->deeppavlov) (3.5.0)\n",
            "Requirement already satisfied: h11>=0.8 in /usr/local/lib/python3.10/dist-packages (from uvicorn<0.19.0,>=0.13.0->deeppavlov) (0.14.0)\n",
            "Requirement already satisfied: six>=1.5 in /usr/local/lib/python3.10/dist-packages (from python-dateutil>=2.8.1->pandas<1.6.0,>=1.0.0->deeppavlov) (1.16.0)\n",
            "Requirement already satisfied: sniffio>=1.1 in /usr/local/lib/python3.10/dist-packages (from anyio<5,>=3.4.0->starlette==0.22.0->fastapi<=0.89.1,>=0.47.0->deeppavlov) (1.3.1)\n",
            "Requirement already satisfied: exceptiongroup in /usr/local/lib/python3.10/dist-packages (from anyio<5,>=3.4.0->starlette==0.22.0->fastapi<=0.89.1,>=0.47.0->deeppavlov) (1.2.2)\n",
            "Requirement already satisfied: pyaspeller in /usr/local/lib/python3.10/dist-packages (2.0.0)\n",
            "Requirement already satisfied: requests<3.0.0,>=2.27.1 in /usr/local/lib/python3.10/dist-packages (from pyaspeller) (2.32.3)\n",
            "Requirement already satisfied: charset-normalizer<4,>=2 in /usr/local/lib/python3.10/dist-packages (from requests<3.0.0,>=2.27.1->pyaspeller) (3.4.0)\n",
            "Requirement already satisfied: idna<4,>=2.5 in /usr/local/lib/python3.10/dist-packages (from requests<3.0.0,>=2.27.1->pyaspeller) (3.10)\n",
            "Requirement already satisfied: urllib3<3,>=1.21.1 in /usr/local/lib/python3.10/dist-packages (from requests<3.0.0,>=2.27.1->pyaspeller) (2.2.3)\n",
            "Requirement already satisfied: certifi>=2017.4.17 in /usr/local/lib/python3.10/dist-packages (from requests<3.0.0,>=2.27.1->pyaspeller) (2024.8.30)\n",
            "Collecting https://github.com/kpu/kenlm/archive/master.zip\n",
            "  Using cached https://github.com/kpu/kenlm/archive/master.zip\n",
            "  Installing build dependencies ... \u001b[?25l\u001b[?25hdone\n",
            "  Getting requirements to build wheel ... \u001b[?25l\u001b[?25hdone\n",
            "  Preparing metadata (pyproject.toml) ... \u001b[?25l\u001b[?25hdone\n"
          ]
        }
      ],
      "source": [
        "# Установка необходимых библиотек\n",
        "!apt install swig3.0\n",
        "!pip install jamspell\n",
        "!pip install deeppavlov\n",
        "!pip install pyaspeller\n",
        "!wget -q https://github.com/bakwc/Januspell-models/raw/master/ru.tar.gz\n",
        "!pip install https://github.com/kpu/kenlm/archive/master.zip"
      ]
    },
    {
      "cell_type": "code",
      "source": [
        "import time\n",
        "import subprocess\n",
        "\n",
        "def measure_time(method_name, command):\n",
        "    start_time = time.time()\n",
        "    subprocess.run(command, shell=True)\n",
        "    end_time = time.time()\n",
        "    return method_name, end_time - start_time\n",
        "\n",
        "methods = [\n",
        "    (\"Jamspell\", \"pip install jamspell\"),\n",
        "    (\"DeepPavlov\", \"pip install deeppavlov\"),\n",
        "    (\"YandexSpeller\", \"pip install pyaspeller\"),\n",
        "]\n",
        "\n",
        "results = []\n",
        "for method_name, command in methods:\n",
        "    results.append(measure_time(method_name, command))\n",
        "\n",
        "for method, duration in results:\n",
        "    print(f\"{method} took {duration:.2f} seconds.\")"
      ],
      "metadata": {
        "colab": {
          "base_uri": "https://localhost:8080/"
        },
        "id": "3J_41wgDQGzT",
        "outputId": "e2ba67bc-0f5f-4428-827e-dbb6b327db48"
      },
      "execution_count": null,
      "outputs": [
        {
          "output_type": "stream",
          "name": "stdout",
          "text": [
            "Jamspell took 4.78 seconds.\n",
            "DeepPavlov took 9.11 seconds.\n",
            "YandexSpeller took 4.52 seconds.\n"
          ]
        }
      ]
    },
    {
      "cell_type": "code",
      "source": [
        "def damerau_levenshtein(s1, s2):\n",
        "    d = [[0] * (len(s2) + 1) for _ in range(len(s1) + 1)]\n",
        "\n",
        "    for i in range(len(s1) + 1):\n",
        "        d[i][0] = i\n",
        "    for j in range(len(s2) + 1):\n",
        "        d[0][j] = j\n",
        "\n",
        "    for i in range(1, len(s1) + 1):\n",
        "        for j in range(1, len(s2) + 1):\n",
        "            cost = 0 if s1[i - 1] == s2[j - 1] else 1\n",
        "            d[i][j] = min(d[i - 1][j] + 1,      # deletion\n",
        "                           d[i][j - 1] + 1,      # insertion\n",
        "                           d[i - 1][j - 1] + cost)  # substitution\n",
        "\n",
        "            if i > 1 and j > 1 and s1[i - 1] == s2[j - 2] and s1[i - 2] == s2[j - 1]:\n",
        "                d[i][j] = min(d[i][j], d[i - 2][j - 2] + cost)  # transposition\n",
        "\n",
        "    return d[len(s1)][len(s2)]\n",
        "\n",
        "# Measure execution time\n",
        "start_time = time.time()\n",
        "distance = damerau_levenshtein(\"example\", \"exampel\")\n",
        "end_time = time.time()\n",
        "print(f\"Damerau-Levenshtein distance: {distance}, Time taken: {end_time - start_time:.6f} seconds.\")"
      ],
      "metadata": {
        "colab": {
          "base_uri": "https://localhost:8080/"
        },
        "id": "7UArs5ZZQUpJ",
        "outputId": "f3360144-6627-4a44-89a8-562fe186d184"
      },
      "execution_count": null,
      "outputs": [
        {
          "output_type": "stream",
          "name": "stdout",
          "text": [
            "Damerau-Levenshtein distance: 1, Time taken: 0.000120 seconds.\n"
          ]
        }
      ]
    },
    {
      "cell_type": "code",
      "source": [
        "import random\n",
        "\n",
        "keyboard_layout = {\n",
        "    'q': ['q', 'w', 'a'],\n",
        "    'w': ['w', 'q', 'e', 's'],\n",
        "    'e': ['e', 'w', 'r', 'd'],\n",
        "    'r': ['r', 'e', 't', 'f'],\n",
        "    't': ['t', 'r', 'y', 'g'],\n",
        "    'y': ['y', 't', 'u', 'h'],\n",
        "    'u': ['u', 'y', 'i', 'j'],\n",
        "    'i': ['i', 'u', 'o', 'k'],\n",
        "    'o': ['o', 'i', 'p', 'l'],\n",
        "    'p': ['p', 'o', 'l'],\n",
        "    'a': ['a', 'q', 's', 'z'],\n",
        "    's': ['s', 'a', 'd', 'x', 'w'],\n",
        "    'd': ['d', 's', 'f', 'c', 'e'],\n",
        "    'f': ['f', 'd', 'g', 'v', 'r'],\n",
        "    'g': ['g', 'f', 'h', 'b', 't'],\n",
        "    'h': ['h', 'g', 'j', 'n', 'y'],\n",
        "    'j': ['j', 'h', 'k', 'm', 'u'],\n",
        "    'k': ['k', 'j', 'l', 'o', 'i'],\n",
        "    'l': ['l', 'k', 'p', 'o'],\n",
        "    'z': ['z', 'a', 'x'],\n",
        "    'x': ['x', 'z', 's', 'c'],\n",
        "    'c': ['c', 'x', 'd', 'v'],\n",
        "    'v': ['v', 'c', 'f', 'b'],\n",
        "    'b': ['b', 'v', 'g', 'n'],\n",
        "    'n': ['n', 'b', 'h', 'm'],\n",
        "    'm': ['m', 'n', 'j']\n",
        "}\n",
        "\n",
        "def generate_typos(word):\n",
        "    typo_word = list(word)\n",
        "    index = random.randint(0, len(word) - 1)\n",
        "    possible_chars = keyboard_layout.get(word[index], [])\n",
        "\n",
        "    if possible_chars:\n",
        "        typo_word[index] = random.choice(possible_chars)\n",
        "\n",
        "    return ''.join(typo_word)\n",
        "\n",
        "# Example usage\n",
        "typo = generate_typos(\"example\")\n",
        "print(f\"Original: example, Typo: {typo}\")"
      ],
      "metadata": {
        "colab": {
          "base_uri": "https://localhost:8080/"
        },
        "id": "YBGwc4XlQY2X",
        "outputId": "ff07137f-8d8e-4415-d1d3-5913ce4fdc41"
      },
      "execution_count": null,
      "outputs": [
        {
          "output_type": "stream",
          "name": "stdout",
          "text": [
            "Original: example, Typo: exajple\n"
          ]
        }
      ]
    },
    {
      "cell_type": "code",
      "source": [
        "from sklearn.feature_extraction.text import CountVectorizer\n",
        "\n",
        "def compare_vectors(texts):\n",
        "    vectorizer = CountVectorizer()\n",
        "    X = vectorizer.fit_transform(texts)\n",
        "    return X.toarray()\n",
        "\n",
        "# Example usage\n",
        "texts = [\n",
        "    \"вот в инете откапал такую инеерсную статейку предлагаю вашему внимани\",\n",
        "    \"может и в правду лутше тебе молчать чем пытаться сказать\",\n",
        "    \"утром мы сидели как сычи а потом каак начали работать\"\n",
        "]\n",
        "\n",
        "frequency_vectors = compare_vectors(texts)\n",
        "print(\"Frequency Vectors:\\n\", frequency_vectors)"
      ],
      "metadata": {
        "colab": {
          "base_uri": "https://localhost:8080/"
        },
        "id": "dq6u8zbzQc3Y",
        "outputId": "ae7a7db6-18ad-4a55-d208-7c71a7db353a"
      },
      "execution_count": null,
      "outputs": [
        {
          "output_type": "stream",
          "name": "stdout",
          "text": [
            "Frequency Vectors:\n",
            " [[1 1 1 1 1 0 0 0 0 0 0 0 1 0 0 1 0 0 0 0 1 0 1 0 0 0]\n",
            " [0 0 0 0 0 0 0 1 1 1 0 0 0 0 1 0 1 0 0 1 0 0 0 1 0 1]\n",
            " [0 0 0 0 0 1 1 0 0 0 1 1 0 1 0 0 0 1 1 0 0 1 0 0 1 0]]\n"
          ]
        }
      ]
    },
    {
      "cell_type": "code",
      "source": [
        "# Исправление текстов с помощью Jamspell\n",
        "def correct_with_jamspell(text):\n",
        "    return spell_checker.FixFragment(text)\n",
        "\n",
        "# Исправление текстов с помощью YandexSpeller\n",
        "def correct_with_yandex(text):\n",
        "    corrections = yandex_speller.spell(text)\n",
        "    for correction in corrections:\n",
        "        text = text.replace(correction['word'], correction['s'][0])  # Заменяем на первое предложение\n",
        "    return text\n",
        "\n",
        "# Исправление текстов\n",
        "corrected_texts_jamspell = [correct_with_jamspell(text) for text in texts]\n",
        "corrected_texts_yandex = [correct_with_yandex(text) for text in texts]\n",
        "\n",
        "# Вывод исправленных текстов\n",
        "print(\"Исправленные тексты с помощью Jamspell:\")\n",
        "for original, corrected in zip(texts, corrected_texts_jamspell):\n",
        "    print(f\"Оригинал: {original}\\nИсправленный: {corrected}\\n\")\n",
        "\n",
        "print(\"Исправленные тексты с помощью YandexSpeller:\")\n",
        "for original, corrected in zip(texts, corrected_texts_yandex):\n",
        "    print(f\"Оригинал: {original}\\nИсправленный: {corrected}\\n\")\n"
      ],
      "metadata": {
        "colab": {
          "base_uri": "https://localhost:8080/"
        },
        "id": "qeQtDbEWRBwc",
        "outputId": "702eee8a-280e-4aea-9f5c-498cb09c3cde"
      },
      "execution_count": null,
      "outputs": [
        {
          "output_type": "stream",
          "name": "stdout",
          "text": [
            "Исправленные тексты с помощью Jamspell:\n",
            "Оригинал: вот в инете откапал такую инеерсную статейку предлагаю вашему внимани\n",
            "Исправленный: вот в инете откапал такую инеерсную статейку предлагаю вашему внимани\n",
            "\n",
            "Оригинал: может и в правду лутше тебе молчать чем пытаться сказать\n",
            "Исправленный: может и в правду лутше тебе молчать чем пытаться сказать\n",
            "\n",
            "Оригинал: утром мы сидели как сычи а потом каак начали работать\n",
            "Исправленный: утром мы сидели как сычи а потом каак начали работать\n",
            "\n",
            "Исправленные тексты с помощью YandexSpeller:\n",
            "Оригинал: вот в инете откапал такую инеерсную статейку предлагаю вашему внимани\n",
            "Исправленный: вот в инете откопал такую интересную статейку предлагаю вашему вниманию\n",
            "\n",
            "Оригинал: может и в правду лутше тебе молчать чем пытаться сказать\n",
            "Исправленный: может и в правду лучше тебе молчать чем пытаться сказать\n",
            "\n",
            "Оригинал: утром мы сидели как сычи а потом каак начали работать\n",
            "Исправленный: утром мы сидели как сычи а потом как начали работать\n",
            "\n"
          ]
        }
      ]
    }
  ]
}