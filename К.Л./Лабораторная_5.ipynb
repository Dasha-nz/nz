{
  "nbformat": 4,
  "nbformat_minor": 0,
  "metadata": {
    "colab": {
      "provenance": [],
      "authorship_tag": "ABX9TyNwSDpaHNLX6It0GwSjJHKC",
      "include_colab_link": true
    },
    "kernelspec": {
      "name": "python3",
      "display_name": "Python 3"
    },
    "language_info": {
      "name": "python"
    }
  },
  "cells": [
    {
      "cell_type": "markdown",
      "metadata": {
        "id": "view-in-github",
        "colab_type": "text"
      },
      "source": [
        "<a href=\"https://colab.research.google.com/github/Dasha-nz/nz/blob/main/%D0%9A.%D0%9B./%D0%9B%D0%B0%D0%B1%D0%BE%D1%80%D0%B0%D1%82%D0%BE%D1%80%D0%BD%D0%B0%D1%8F_5.ipynb\" target=\"_parent\"><img src=\"https://colab.research.google.com/assets/colab-badge.svg\" alt=\"Open In Colab\"/></a>"
      ]
    },
    {
      "cell_type": "code",
      "source": [
        "! pip install nltk transformers torch numpy"
      ],
      "metadata": {
        "colab": {
          "base_uri": "https://localhost:8080/"
        },
        "id": "aaDhscuhddns",
        "outputId": "d5f33217-462a-4005-f96d-88e39cc05eaa"
      },
      "execution_count": 33,
      "outputs": [
        {
          "output_type": "stream",
          "name": "stdout",
          "text": [
            "Requirement already satisfied: nltk in /usr/local/lib/python3.10/dist-packages (3.9.1)\n",
            "Requirement already satisfied: transformers in /usr/local/lib/python3.10/dist-packages (4.46.3)\n",
            "Requirement already satisfied: torch in /usr/local/lib/python3.10/dist-packages (2.5.1+cu121)\n",
            "Requirement already satisfied: numpy in /usr/local/lib/python3.10/dist-packages (1.26.4)\n",
            "Requirement already satisfied: click in /usr/local/lib/python3.10/dist-packages (from nltk) (8.1.7)\n",
            "Requirement already satisfied: joblib in /usr/local/lib/python3.10/dist-packages (from nltk) (1.4.2)\n",
            "Requirement already satisfied: regex>=2021.8.3 in /usr/local/lib/python3.10/dist-packages (from nltk) (2024.9.11)\n",
            "Requirement already satisfied: tqdm in /usr/local/lib/python3.10/dist-packages (from nltk) (4.66.6)\n",
            "Requirement already satisfied: filelock in /usr/local/lib/python3.10/dist-packages (from transformers) (3.16.1)\n",
            "Requirement already satisfied: huggingface-hub<1.0,>=0.23.2 in /usr/local/lib/python3.10/dist-packages (from transformers) (0.26.3)\n",
            "Requirement already satisfied: packaging>=20.0 in /usr/local/lib/python3.10/dist-packages (from transformers) (24.2)\n",
            "Requirement already satisfied: pyyaml>=5.1 in /usr/local/lib/python3.10/dist-packages (from transformers) (6.0.2)\n",
            "Requirement already satisfied: requests in /usr/local/lib/python3.10/dist-packages (from transformers) (2.32.3)\n",
            "Requirement already satisfied: tokenizers<0.21,>=0.20 in /usr/local/lib/python3.10/dist-packages (from transformers) (0.20.3)\n",
            "Requirement already satisfied: safetensors>=0.4.1 in /usr/local/lib/python3.10/dist-packages (from transformers) (0.4.5)\n",
            "Requirement already satisfied: typing-extensions>=4.8.0 in /usr/local/lib/python3.10/dist-packages (from torch) (4.12.2)\n",
            "Requirement already satisfied: networkx in /usr/local/lib/python3.10/dist-packages (from torch) (3.4.2)\n",
            "Requirement already satisfied: jinja2 in /usr/local/lib/python3.10/dist-packages (from torch) (3.1.4)\n",
            "Requirement already satisfied: fsspec in /usr/local/lib/python3.10/dist-packages (from torch) (2024.10.0)\n",
            "Requirement already satisfied: sympy==1.13.1 in /usr/local/lib/python3.10/dist-packages (from torch) (1.13.1)\n",
            "Requirement already satisfied: mpmath<1.4,>=1.1.0 in /usr/local/lib/python3.10/dist-packages (from sympy==1.13.1->torch) (1.3.0)\n",
            "Requirement already satisfied: MarkupSafe>=2.0 in /usr/local/lib/python3.10/dist-packages (from jinja2->torch) (3.0.2)\n",
            "Requirement already satisfied: charset-normalizer<4,>=2 in /usr/local/lib/python3.10/dist-packages (from requests->transformers) (3.4.0)\n",
            "Requirement already satisfied: idna<4,>=2.5 in /usr/local/lib/python3.10/dist-packages (from requests->transformers) (3.10)\n",
            "Requirement already satisfied: urllib3<3,>=1.21.1 in /usr/local/lib/python3.10/dist-packages (from requests->transformers) (2.2.3)\n",
            "Requirement already satisfied: certifi>=2017.4.17 in /usr/local/lib/python3.10/dist-packages (from requests->transformers) (2024.8.30)\n"
          ]
        }
      ]
    },
    {
      "cell_type": "code",
      "source": [
        "def explain_ud_tags():\n",
        "\n",
        "    tagged_sentence = [\n",
        "        ('Кот', 'NOUN'),\n",
        "        ('спит', 'VERB'),\n",
        "        ('.', 'PUNCT')\n",
        "    ]\n",
        "\n",
        "    explanations = {\n",
        "        'NOUN': \"Существительное, обозначающее предмет или явление.\",\n",
        "        'VERB': \"Глагол, обозначающий действие или состояние.\",\n",
        "        'PUNCT': \"Знаки препинания, используемые для разделения предложений.\"\n",
        "    }\n",
        "\n",
        "    for word, tag in tagged_sentence:\n",
        "        print(f\"{word} ({tag}): {explanations.get(tag, 'Неизвестный тег')}\")\n",
        "\n",
        "\n",
        "if __name__ == \"__main__\":\n",
        "    print(\"Объяснение UD-тегов:\")\n",
        "    explain_ud_tags()\n"
      ],
      "metadata": {
        "colab": {
          "base_uri": "https://localhost:8080/"
        },
        "id": "1aQIOAXGaxdj",
        "outputId": "765398b0-53ae-40c0-9b30-d71f4b8a2575"
      },
      "execution_count": 34,
      "outputs": [
        {
          "output_type": "stream",
          "name": "stdout",
          "text": [
            "Объяснение UD-тегов:\n",
            "Кот (NOUN): Существительное, обозначающее предмет или явление.\n",
            "спит (VERB): Глагол, обозначающий действие или состояние.\n",
            ". (PUNCT): Знаки препинания, используемые для разделения предложений.\n"
          ]
        }
      ]
    },
    {
      "cell_type": "code",
      "source": [
        "def split_compound_sentence(sentence):\n",
        "   # Функция для разбиения сложносочиненного предложения на простые.\n",
        "   # :param sentence: Сложносочиненное предложение\n",
        "   # :return: Список простых предложений\n",
        "\n",
        "    parts = []\n",
        "    conjunctions = ['и', 'а', 'но', 'или']\n",
        "\n",
        "    if ',' in sentence:\n",
        "        parts = [part.strip() for part in sentence.split(',')]\n",
        "    else:\n",
        "\n",
        "        for conjunction in conjunctions:\n",
        "            if conjunction in sentence:\n",
        "                parts = [part.strip() for part in sentence.split(conjunction)]\n",
        "                break\n",
        "\n",
        "    return parts\n",
        "\n",
        "if __name__ == \"__main__\":\n",
        "    complex_sentence = \"Кот спит, а собака лает.\"\n",
        "    simple_sentences = split_compound_sentence(complex_sentence)\n",
        "    print(\"Разбиение сложносочиненного предложения:\")\n",
        "    for i, simple in enumerate(simple_sentences, start=1):\n",
        "        print(f\"Предложение {i}: {simple}\")\n"
      ],
      "metadata": {
        "colab": {
          "base_uri": "https://localhost:8080/"
        },
        "id": "DOzapBbccqBz",
        "outputId": "e9ecb47a-c063-4827-8db0-437603f357e8"
      },
      "execution_count": 35,
      "outputs": [
        {
          "output_type": "stream",
          "name": "stdout",
          "text": [
            "Разбиение сложносочиненного предложения:\n",
            "Предложение 1: Кот спит\n",
            "Предложение 2: а собака лает.\n"
          ]
        }
      ]
    },
    {
      "cell_type": "code",
      "source": [
        "class TreeNode:\n",
        "    def __init__(self, token):\n",
        "        self.token = token\n",
        "        self.parent = None\n",
        "\n",
        "def find_lowest_common_ancestor(node1, node2):\n",
        "\n",
        "\n",
        "    ancestors1 = set()\n",
        "\n",
        "\n",
        "    while node1:\n",
        "        ancestors1.add(node1)\n",
        "        node1 = node1.parent\n",
        "\n",
        "        if node2 in ancestors1:\n",
        "            return node2\n",
        "        node2 = node2.parent\n",
        "\n",
        "    return None\n",
        "\n",
        "if __name__ == \"__main__\":\n",
        "\n",
        "    root = TreeNode(\"root\")\n",
        "    child1 = TreeNode(\"child1\")\n",
        "    child2 = TreeNode(\"child2\")\n",
        "    grandchild1 = TreeNode(\"grandchild1\")\n",
        "    grandchild2 = TreeNode(\"grandchild2\")\n",
        "\n",
        "\n",
        "    child1.parent = root\n",
        "    child2.parent = root\n",
        "    grandchild1.parent = child1\n",
        "    grandchild2.parent = child2\n",
        "\n",
        "\n",
        "    lca = find_lowest_common_ancestor(grandchild1, grandchild2)\n",
        "\n",
        "    if lca:\n",
        "        print(f\"Наименьший общий предок: {lca.token}\")\n",
        "    else:\n",
        "        print(\"Наименьший общий предок не найден.\")\n"
      ],
      "metadata": {
        "colab": {
          "base_uri": "https://localhost:8080/"
        },
        "id": "adtjmk3gc7lK",
        "outputId": "d8683bdc-c943-47cd-99fa-77ff9067ba5e"
      },
      "execution_count": 36,
      "outputs": [
        {
          "output_type": "stream",
          "name": "stdout",
          "text": [
            "Наименьший общий предок: root\n"
          ]
        }
      ]
    },
    {
      "cell_type": "code",
      "source": [
        "import numpy as np\n",
        "from nltk.tree import Tree\n",
        "from nltk import edit_distance\n",
        "from transformers import BertTokenizer, BertModel\n",
        "import torch\n",
        "\n",
        "def compute_edit_distance(tree1, tree2):\n",
        "\n",
        "    str_tree1 = tree1.pformat()\n",
        "    str_tree2 = tree2.pformat()\n",
        "\n",
        "\n",
        "    return edit_distance(str_tree1, str_tree2)\n",
        "\n",
        "def compute_bert_embedding(sentence):\n",
        "\n",
        "    tokenizer = BertTokenizer.from_pretrained('bert-base-uncased')\n",
        "    model = BertModel.from_pretrained('bert-base-uncased')\n",
        "\n",
        "    inputs = tokenizer(sentence, return_tensors='pt')\n",
        "\n",
        "    with torch.no_grad():\n",
        "        outputs = model(**inputs)\n",
        "\n",
        "    embedding = outputs.last_hidden_state[:, 0, :].numpy()\n",
        "    return embedding\n",
        "\n",
        "def cosine_similarity(vec1, vec2):\n",
        "\n",
        "    vec1 = vec1.flatten()\n",
        "    vec2 = vec2.flatten()\n",
        "    norm1 = np.linalg.norm(vec1)\n",
        "    norm2 = np.linalg.norm(vec2)\n",
        "    if norm1 == 0 or norm2 == 0:\n",
        "        return 0.0\n",
        "    return np.dot(vec1, vec2) / (norm1 * norm2)\n",
        "\n",
        "if __name__ == \"__main__\":\n",
        "  sentences_pairs = [\n",
        "    (\"Кошка сидит на коврике.\", \"Кошка на коврике.\"),\n",
        "    (\"Собаки — отличные питомцы.\", \"Кошки — замечательные животные.\"),\n",
        "    (\"Я люблю конфетки.\", \"Мне нравится кушать конфетки.\")\n",
        "    ]\n",
        "\n",
        "\n",
        "  for sent1, sent2 in sentences_pairs:\n",
        "\n",
        "        embedding1 = compute_bert_embedding(sent1)\n",
        "        embedding2 = compute_bert_embedding(sent2)\n",
        "\n",
        "\n",
        "        cos_sim = cosine_similarity(embedding1, embedding2)\n",
        "\n",
        "        tree1 = Tree.fromstring('(S (NP Кошка) (VP сидит (PP на (NP коврике))))')\n",
        "        tree2 = Tree.fromstring('(S (NP Кошка) (VP есть (PP на (NP коврике))))')\n",
        "\n",
        "        edit_dist = compute_edit_distance(tree1, tree2)\n",
        "\n",
        "        print(f\"Сравнение предложений: '{sent1}' и '{sent2}'\")\n",
        "        print(f\"Косинусное сходство: {cos_sim:.4f}\")\n",
        "        print(f\"Расстояние редактирования: {edit_dist}\\n\")\n"
      ],
      "metadata": {
        "colab": {
          "base_uri": "https://localhost:8080/"
        },
        "id": "b7etJc5adIUB",
        "outputId": "e7cdb12c-aa5c-4459-8735-bb0785bcf0f5"
      },
      "execution_count": 37,
      "outputs": [
        {
          "output_type": "stream",
          "name": "stdout",
          "text": [
            "Сравнение предложений: 'Кошка сидит на коврике.' и 'Кошка на коврике.'\n",
            "Косинусное сходство: 0.9868\n",
            "Расстояние редактирования: 5\n",
            "\n",
            "Сравнение предложений: 'Собаки — отличные питомцы.' и 'Кошки — замечательные животные.'\n",
            "Косинусное сходство: 0.9853\n",
            "Расстояние редактирования: 5\n",
            "\n",
            "Сравнение предложений: 'Я люблю конфетки.' и 'Мне нравится кушать конфетки.'\n",
            "Косинусное сходство: 0.9744\n",
            "Расстояние редактирования: 5\n",
            "\n"
          ]
        }
      ]
    }
  ]
}